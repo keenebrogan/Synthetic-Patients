{
  "nbformat": 4,
  "nbformat_minor": 0,
  "metadata": {
    "colab": {
      "provenance": []
    },
    "kernelspec": {
      "name": "python3",
      "display_name": "Python 3"
    },
    "language_info": {
      "name": "python"
    }
  },
  "cells": [
    {
      "cell_type": "markdown",
      "source": [
        "#**Machine Learning Tutorial - Classification Model**\n",
        "A classification model is an ML model that predicts a object's \"class\" based on data features. In this example, our classification is binary 1 means Diabetes, 0 means no Diabetes. The objective of this file is to collect our data, clean it, train our model, and then analyze the results.\n",
        "\n",
        "This first cell is all of our imports"
      ],
      "metadata": {
        "id": "f67aswF8ctXx"
      }
    },
    {
      "cell_type": "code",
      "source": [
        "import pandas as pd\n",
        "import numpy as np\n",
        "import matplotlib.pyplot as plt\n",
        "import seaborn as sns\n",
        "from sklearn.model_selection import train_test_split\n",
        "from sklearn.preprocessing import StandardScaler\n",
        "from sklearn import svm\n",
        "from sklearn.metrics import classification_report\n",
        "from sklearn.metrics import confusion_matrix\n",
        "from sklearn.metrics import ConfusionMatrixDisplay"
      ],
      "metadata": {
        "id": "I9fwyydpBHN8"
      },
      "execution_count": null,
      "outputs": []
    },
    {
      "cell_type": "markdown",
      "source": [
        "#Data Download\n",
        "This cell is where we download our data and load it into a pandas dataframe. A lot of machine learning is optimized by using numpy and pandas to do a lot of the math much faster than we could do manually. We then preview our data with the DataFrame.head() command, which shows us the first 5 rows in our dataframe."
      ],
      "metadata": {
        "id": "CHYqFCs7dmoe"
      }
    },
    {
      "cell_type": "code",
      "source": [
        "#Read the url from the Synthetic Patients Github\n",
        "url = \"https://raw.githubusercontent.com/keenebrogan/Synthetic-Patients/main/data/classification_diabetes.csv\"\n",
        "#Init the data frame, where we will store all of our data\n",
        "df = pd.read_csv(url)\n",
        "#Store the values as a separate file\n",
        "print(f\"Data shape: {df.shape}\")\n",
        "#Preview our data\n",
        "df.head() # alternative is df.tail() to show the end or df.head(10) for a specific amount of rows"
      ],
      "metadata": {
        "colab": {
          "base_uri": "https://localhost:8080/",
          "height": 224
        },
        "id": "zlgJ_KOABUMY",
        "outputId": "2e0cb09d-1528-4d60-c822-377a6dd225b7"
      },
      "execution_count": null,
      "outputs": [
        {
          "output_type": "stream",
          "name": "stdout",
          "text": [
            "Data shape: (768, 9)\n"
          ]
        },
        {
          "output_type": "execute_result",
          "data": {
            "text/plain": [
              "   Pregnancies  Glucose  BloodPressure  SkinThickness  Insulin   BMI  \\\n",
              "0            6      148             72             35        0  33.6   \n",
              "1            1       85             66             29        0  26.6   \n",
              "2            8      183             64              0        0  23.3   \n",
              "3            1       89             66             23       94  28.1   \n",
              "4            0      137             40             35      168  43.1   \n",
              "\n",
              "   DiabetesPedigreeFunction  Age  Outcome  \n",
              "0                     0.627   50        1  \n",
              "1                     0.351   31        0  \n",
              "2                     0.672   32        1  \n",
              "3                     0.167   21        0  \n",
              "4                     2.288   33        1  "
            ],
            "text/html": [
              "\n",
              "  <div id=\"df-49e6f8c4-bf2d-49c1-91b3-03e1defc1d4c\" class=\"colab-df-container\">\n",
              "    <div>\n",
              "<style scoped>\n",
              "    .dataframe tbody tr th:only-of-type {\n",
              "        vertical-align: middle;\n",
              "    }\n",
              "\n",
              "    .dataframe tbody tr th {\n",
              "        vertical-align: top;\n",
              "    }\n",
              "\n",
              "    .dataframe thead th {\n",
              "        text-align: right;\n",
              "    }\n",
              "</style>\n",
              "<table border=\"1\" class=\"dataframe\">\n",
              "  <thead>\n",
              "    <tr style=\"text-align: right;\">\n",
              "      <th></th>\n",
              "      <th>Pregnancies</th>\n",
              "      <th>Glucose</th>\n",
              "      <th>BloodPressure</th>\n",
              "      <th>SkinThickness</th>\n",
              "      <th>Insulin</th>\n",
              "      <th>BMI</th>\n",
              "      <th>DiabetesPedigreeFunction</th>\n",
              "      <th>Age</th>\n",
              "      <th>Outcome</th>\n",
              "    </tr>\n",
              "  </thead>\n",
              "  <tbody>\n",
              "    <tr>\n",
              "      <th>0</th>\n",
              "      <td>6</td>\n",
              "      <td>148</td>\n",
              "      <td>72</td>\n",
              "      <td>35</td>\n",
              "      <td>0</td>\n",
              "      <td>33.6</td>\n",
              "      <td>0.627</td>\n",
              "      <td>50</td>\n",
              "      <td>1</td>\n",
              "    </tr>\n",
              "    <tr>\n",
              "      <th>1</th>\n",
              "      <td>1</td>\n",
              "      <td>85</td>\n",
              "      <td>66</td>\n",
              "      <td>29</td>\n",
              "      <td>0</td>\n",
              "      <td>26.6</td>\n",
              "      <td>0.351</td>\n",
              "      <td>31</td>\n",
              "      <td>0</td>\n",
              "    </tr>\n",
              "    <tr>\n",
              "      <th>2</th>\n",
              "      <td>8</td>\n",
              "      <td>183</td>\n",
              "      <td>64</td>\n",
              "      <td>0</td>\n",
              "      <td>0</td>\n",
              "      <td>23.3</td>\n",
              "      <td>0.672</td>\n",
              "      <td>32</td>\n",
              "      <td>1</td>\n",
              "    </tr>\n",
              "    <tr>\n",
              "      <th>3</th>\n",
              "      <td>1</td>\n",
              "      <td>89</td>\n",
              "      <td>66</td>\n",
              "      <td>23</td>\n",
              "      <td>94</td>\n",
              "      <td>28.1</td>\n",
              "      <td>0.167</td>\n",
              "      <td>21</td>\n",
              "      <td>0</td>\n",
              "    </tr>\n",
              "    <tr>\n",
              "      <th>4</th>\n",
              "      <td>0</td>\n",
              "      <td>137</td>\n",
              "      <td>40</td>\n",
              "      <td>35</td>\n",
              "      <td>168</td>\n",
              "      <td>43.1</td>\n",
              "      <td>2.288</td>\n",
              "      <td>33</td>\n",
              "      <td>1</td>\n",
              "    </tr>\n",
              "  </tbody>\n",
              "</table>\n",
              "</div>\n",
              "    <div class=\"colab-df-buttons\">\n",
              "\n",
              "  <div class=\"colab-df-container\">\n",
              "    <button class=\"colab-df-convert\" onclick=\"convertToInteractive('df-49e6f8c4-bf2d-49c1-91b3-03e1defc1d4c')\"\n",
              "            title=\"Convert this dataframe to an interactive table.\"\n",
              "            style=\"display:none;\">\n",
              "\n",
              "  <svg xmlns=\"http://www.w3.org/2000/svg\" height=\"24px\" viewBox=\"0 -960 960 960\">\n",
              "    <path d=\"M120-120v-720h720v720H120Zm60-500h600v-160H180v160Zm220 220h160v-160H400v160Zm0 220h160v-160H400v160ZM180-400h160v-160H180v160Zm440 0h160v-160H620v160ZM180-180h160v-160H180v160Zm440 0h160v-160H620v160Z\"/>\n",
              "  </svg>\n",
              "    </button>\n",
              "\n",
              "  <style>\n",
              "    .colab-df-container {\n",
              "      display:flex;\n",
              "      gap: 12px;\n",
              "    }\n",
              "\n",
              "    .colab-df-convert {\n",
              "      background-color: #E8F0FE;\n",
              "      border: none;\n",
              "      border-radius: 50%;\n",
              "      cursor: pointer;\n",
              "      display: none;\n",
              "      fill: #1967D2;\n",
              "      height: 32px;\n",
              "      padding: 0 0 0 0;\n",
              "      width: 32px;\n",
              "    }\n",
              "\n",
              "    .colab-df-convert:hover {\n",
              "      background-color: #E2EBFA;\n",
              "      box-shadow: 0px 1px 2px rgba(60, 64, 67, 0.3), 0px 1px 3px 1px rgba(60, 64, 67, 0.15);\n",
              "      fill: #174EA6;\n",
              "    }\n",
              "\n",
              "    .colab-df-buttons div {\n",
              "      margin-bottom: 4px;\n",
              "    }\n",
              "\n",
              "    [theme=dark] .colab-df-convert {\n",
              "      background-color: #3B4455;\n",
              "      fill: #D2E3FC;\n",
              "    }\n",
              "\n",
              "    [theme=dark] .colab-df-convert:hover {\n",
              "      background-color: #434B5C;\n",
              "      box-shadow: 0px 1px 3px 1px rgba(0, 0, 0, 0.15);\n",
              "      filter: drop-shadow(0px 1px 2px rgba(0, 0, 0, 0.3));\n",
              "      fill: #FFFFFF;\n",
              "    }\n",
              "  </style>\n",
              "\n",
              "    <script>\n",
              "      const buttonEl =\n",
              "        document.querySelector('#df-49e6f8c4-bf2d-49c1-91b3-03e1defc1d4c button.colab-df-convert');\n",
              "      buttonEl.style.display =\n",
              "        google.colab.kernel.accessAllowed ? 'block' : 'none';\n",
              "\n",
              "      async function convertToInteractive(key) {\n",
              "        const element = document.querySelector('#df-49e6f8c4-bf2d-49c1-91b3-03e1defc1d4c');\n",
              "        const dataTable =\n",
              "          await google.colab.kernel.invokeFunction('convertToInteractive',\n",
              "                                                    [key], {});\n",
              "        if (!dataTable) return;\n",
              "\n",
              "        const docLinkHtml = 'Like what you see? Visit the ' +\n",
              "          '<a target=\"_blank\" href=https://colab.research.google.com/notebooks/data_table.ipynb>data table notebook</a>'\n",
              "          + ' to learn more about interactive tables.';\n",
              "        element.innerHTML = '';\n",
              "        dataTable['output_type'] = 'display_data';\n",
              "        await google.colab.output.renderOutput(dataTable, element);\n",
              "        const docLink = document.createElement('div');\n",
              "        docLink.innerHTML = docLinkHtml;\n",
              "        element.appendChild(docLink);\n",
              "      }\n",
              "    </script>\n",
              "  </div>\n",
              "\n",
              "\n",
              "<div id=\"df-b182fdbe-d3f0-4ab5-a095-baece495ff05\">\n",
              "  <button class=\"colab-df-quickchart\" onclick=\"quickchart('df-b182fdbe-d3f0-4ab5-a095-baece495ff05')\"\n",
              "            title=\"Suggest charts.\"\n",
              "            style=\"display:none;\">\n",
              "\n",
              "<svg xmlns=\"http://www.w3.org/2000/svg\" height=\"24px\"viewBox=\"0 0 24 24\"\n",
              "     width=\"24px\">\n",
              "    <g>\n",
              "        <path d=\"M19 3H5c-1.1 0-2 .9-2 2v14c0 1.1.9 2 2 2h14c1.1 0 2-.9 2-2V5c0-1.1-.9-2-2-2zM9 17H7v-7h2v7zm4 0h-2V7h2v10zm4 0h-2v-4h2v4z\"/>\n",
              "    </g>\n",
              "</svg>\n",
              "  </button>\n",
              "\n",
              "<style>\n",
              "  .colab-df-quickchart {\n",
              "      --bg-color: #E8F0FE;\n",
              "      --fill-color: #1967D2;\n",
              "      --hover-bg-color: #E2EBFA;\n",
              "      --hover-fill-color: #174EA6;\n",
              "      --disabled-fill-color: #AAA;\n",
              "      --disabled-bg-color: #DDD;\n",
              "  }\n",
              "\n",
              "  [theme=dark] .colab-df-quickchart {\n",
              "      --bg-color: #3B4455;\n",
              "      --fill-color: #D2E3FC;\n",
              "      --hover-bg-color: #434B5C;\n",
              "      --hover-fill-color: #FFFFFF;\n",
              "      --disabled-bg-color: #3B4455;\n",
              "      --disabled-fill-color: #666;\n",
              "  }\n",
              "\n",
              "  .colab-df-quickchart {\n",
              "    background-color: var(--bg-color);\n",
              "    border: none;\n",
              "    border-radius: 50%;\n",
              "    cursor: pointer;\n",
              "    display: none;\n",
              "    fill: var(--fill-color);\n",
              "    height: 32px;\n",
              "    padding: 0;\n",
              "    width: 32px;\n",
              "  }\n",
              "\n",
              "  .colab-df-quickchart:hover {\n",
              "    background-color: var(--hover-bg-color);\n",
              "    box-shadow: 0 1px 2px rgba(60, 64, 67, 0.3), 0 1px 3px 1px rgba(60, 64, 67, 0.15);\n",
              "    fill: var(--button-hover-fill-color);\n",
              "  }\n",
              "\n",
              "  .colab-df-quickchart-complete:disabled,\n",
              "  .colab-df-quickchart-complete:disabled:hover {\n",
              "    background-color: var(--disabled-bg-color);\n",
              "    fill: var(--disabled-fill-color);\n",
              "    box-shadow: none;\n",
              "  }\n",
              "\n",
              "  .colab-df-spinner {\n",
              "    border: 2px solid var(--fill-color);\n",
              "    border-color: transparent;\n",
              "    border-bottom-color: var(--fill-color);\n",
              "    animation:\n",
              "      spin 1s steps(1) infinite;\n",
              "  }\n",
              "\n",
              "  @keyframes spin {\n",
              "    0% {\n",
              "      border-color: transparent;\n",
              "      border-bottom-color: var(--fill-color);\n",
              "      border-left-color: var(--fill-color);\n",
              "    }\n",
              "    20% {\n",
              "      border-color: transparent;\n",
              "      border-left-color: var(--fill-color);\n",
              "      border-top-color: var(--fill-color);\n",
              "    }\n",
              "    30% {\n",
              "      border-color: transparent;\n",
              "      border-left-color: var(--fill-color);\n",
              "      border-top-color: var(--fill-color);\n",
              "      border-right-color: var(--fill-color);\n",
              "    }\n",
              "    40% {\n",
              "      border-color: transparent;\n",
              "      border-right-color: var(--fill-color);\n",
              "      border-top-color: var(--fill-color);\n",
              "    }\n",
              "    60% {\n",
              "      border-color: transparent;\n",
              "      border-right-color: var(--fill-color);\n",
              "    }\n",
              "    80% {\n",
              "      border-color: transparent;\n",
              "      border-right-color: var(--fill-color);\n",
              "      border-bottom-color: var(--fill-color);\n",
              "    }\n",
              "    90% {\n",
              "      border-color: transparent;\n",
              "      border-bottom-color: var(--fill-color);\n",
              "    }\n",
              "  }\n",
              "</style>\n",
              "\n",
              "  <script>\n",
              "    async function quickchart(key) {\n",
              "      const quickchartButtonEl =\n",
              "        document.querySelector('#' + key + ' button');\n",
              "      quickchartButtonEl.disabled = true;  // To prevent multiple clicks.\n",
              "      quickchartButtonEl.classList.add('colab-df-spinner');\n",
              "      try {\n",
              "        const charts = await google.colab.kernel.invokeFunction(\n",
              "            'suggestCharts', [key], {});\n",
              "      } catch (error) {\n",
              "        console.error('Error during call to suggestCharts:', error);\n",
              "      }\n",
              "      quickchartButtonEl.classList.remove('colab-df-spinner');\n",
              "      quickchartButtonEl.classList.add('colab-df-quickchart-complete');\n",
              "    }\n",
              "    (() => {\n",
              "      let quickchartButtonEl =\n",
              "        document.querySelector('#df-b182fdbe-d3f0-4ab5-a095-baece495ff05 button');\n",
              "      quickchartButtonEl.style.display =\n",
              "        google.colab.kernel.accessAllowed ? 'block' : 'none';\n",
              "    })();\n",
              "  </script>\n",
              "</div>\n",
              "    </div>\n",
              "  </div>\n"
            ]
          },
          "metadata": {},
          "execution_count": 10
        }
      ]
    },
    {
      "cell_type": "markdown",
      "source": [
        "# Data Cleaning\n",
        "Data cleaning is a process whereby we alter our data to make it ready for any sort of analysis or training. This means removing invalid values, making additional calculations, or adding new data. In the step below we're just checking to make sure there aren't any null values or duplicates."
      ],
      "metadata": {
        "id": "x3AKHWb-d7Oh"
      }
    },
    {
      "cell_type": "code",
      "source": [
        "# Data cleaning\n",
        "print(\"\\nDATA CLEANING\")\n",
        "# --- Check for missing values\n",
        "missing_values = df.isnull().sum()\n",
        "print(\"Missing Values : \")\n",
        "print(missing_values)\n",
        "# --- Handle missing values\n",
        "mean_fill = df.fillna(df.mean())\n",
        "df.fillna(mean_fill, inplace=True)\n",
        "# --- Check for duplicate values\n",
        "duplicate_values = df.duplicated().sum()\n",
        "print(\"Duplicate Values : \")\n",
        "print(duplicate_values)\n",
        "# --- Drop duplicate values\n",
        "df.drop_duplicates(inplace=True)"
      ],
      "metadata": {
        "colab": {
          "base_uri": "https://localhost:8080/"
        },
        "id": "zH3VcKboDUHA",
        "outputId": "dad0a37c-15e2-44ce-9ade-e10d2afa637e"
      },
      "execution_count": null,
      "outputs": [
        {
          "output_type": "stream",
          "name": "stdout",
          "text": [
            "\n",
            "DATA CLEANING\n",
            "Missing Values : \n",
            "Pregnancies                 0\n",
            "Glucose                     0\n",
            "BloodPressure               0\n",
            "SkinThickness               0\n",
            "Insulin                     0\n",
            "BMI                         0\n",
            "DiabetesPedigreeFunction    0\n",
            "Age                         0\n",
            "Outcome                     0\n",
            "dtype: int64\n",
            "Duplicate Values : \n",
            "0\n"
          ]
        }
      ]
    },
    {
      "cell_type": "markdown",
      "source": [
        "# Data Analysis\n",
        "Here we get an idea of what the distribution of our dataset looks like. Percentiles, means, stds, and so on are given below."
      ],
      "metadata": {
        "id": "EHDhawqneKw4"
      }
    },
    {
      "cell_type": "code",
      "source": [
        "# DATA ANALYSIS\n",
        "print(\"\\nDATA ANALYSIS\")\n",
        "# --- Summary Statistics\n",
        "summary_stats = df.describe()\n",
        "print(\"Summary Statistics : \")\n",
        "print(summary_stats)\n",
        "# --- Class Distribution\n",
        "class_distribution = df[\"Outcome\"].value_counts()\n",
        "print(\"Class Distribution : \")\n",
        "print(class_distribution)\n"
      ],
      "metadata": {
        "colab": {
          "base_uri": "https://localhost:8080/"
        },
        "id": "F7J1rPxZZDIp",
        "outputId": "94c49f63-ec74-412c-eb76-d92922b4d301"
      },
      "execution_count": null,
      "outputs": [
        {
          "output_type": "stream",
          "name": "stdout",
          "text": [
            "\n",
            "DATA ANALYSIS\n",
            "Summary Statistics : \n",
            "       Pregnancies     Glucose  BloodPressure  SkinThickness     Insulin  \\\n",
            "count   768.000000  768.000000     768.000000     768.000000  768.000000   \n",
            "mean      3.845052  120.894531      69.105469      20.536458   79.799479   \n",
            "std       3.369578   31.972618      19.355807      15.952218  115.244002   \n",
            "min       0.000000    0.000000       0.000000       0.000000    0.000000   \n",
            "25%       1.000000   99.000000      62.000000       0.000000    0.000000   \n",
            "50%       3.000000  117.000000      72.000000      23.000000   30.500000   \n",
            "75%       6.000000  140.250000      80.000000      32.000000  127.250000   \n",
            "max      17.000000  199.000000     122.000000      99.000000  846.000000   \n",
            "\n",
            "              BMI  DiabetesPedigreeFunction         Age     Outcome  \n",
            "count  768.000000                768.000000  768.000000  768.000000  \n",
            "mean    31.992578                  0.471876   33.240885    0.348958  \n",
            "std      7.884160                  0.331329   11.760232    0.476951  \n",
            "min      0.000000                  0.078000   21.000000    0.000000  \n",
            "25%     27.300000                  0.243750   24.000000    0.000000  \n",
            "50%     32.000000                  0.372500   29.000000    0.000000  \n",
            "75%     36.600000                  0.626250   41.000000    1.000000  \n",
            "max     67.100000                  2.420000   81.000000    1.000000  \n",
            "Class Distribution : \n",
            "0    500\n",
            "1    268\n",
            "Name: Outcome, dtype: int64\n"
          ]
        }
      ]
    },
    {
      "cell_type": "markdown",
      "source": [
        "# Model Training\n",
        "Firstly, the code segment separates the features (X) and the target variable (y) from the dataset df, discarding the \"Outcome\" column for X and using it for y. It then splits the data into training and testing sets, reserving 20% of the data for testing. The features are standardized using the StandardScaler from scikit-learn to have a mean of 0 and a variance of 1, which is a common preprocessing step to ensure that all features contribute equally to the distance metric used in SVM. An SVM model is then initialized and fitted to the training data. Following this, the model is used to make predictions (y_pred) on the unseen testing data (X_test). Lastly, the model's performance is evaluated using accuracy as the metric, which is computed as the ratio of correctly predicted instances to the total number of instances in the testing set. This accuracy score is then printed to the console.\n",
        "\n",
        "**Why do we split training and testing data?**\n",
        "* The main objective is to evaluate the model's performance on unseen data, which is a good indicator of how the model will perform in real-world scenarios.\n",
        "* It provides a check against overfitting, where a model might perform exceedingly well on the training data but poorly on any new data."
      ],
      "metadata": {
        "id": "SeVCk232ebaS"
      }
    },
    {
      "cell_type": "code",
      "source": [
        "# Support Vector Machine Modelling\n",
        "print(\"\\nMODELLING\")\n",
        "X = df.drop(\"Outcome\", axis=1)\n",
        "y = df[\"Outcome\"]\n",
        "# --- Splitting the data into training and testing sets\n",
        "X_train, X_test, y_train, y_test = train_test_split(\n",
        "    X, y, test_size=0.2, random_state=42)\n",
        "# --- Standardize Features\n",
        "scaler = StandardScaler()\n",
        "X_train = scaler.fit_transform(X_train)\n",
        "X_test = scaler.transform(X_test)\n",
        "# --- init and train SVM model\n",
        "model = svm.SVC(kernel=\"linear\")\n",
        "model.fit(X_train, y_train)\n",
        "# --- Predict on test data\n",
        "y_pred = model.predict(X_test)\n",
        "# --- Evaluate model performance\n",
        "accuracy = model.score(X_test, y_test)\n",
        "print(\"Model Accuracy : \")\n",
        "print(accuracy)"
      ],
      "metadata": {
        "colab": {
          "base_uri": "https://localhost:8080/"
        },
        "id": "36Uv7F43ZEH3",
        "outputId": "fe4321f6-c176-4e83-c9db-9c102de4d3bb"
      },
      "execution_count": null,
      "outputs": [
        {
          "output_type": "stream",
          "name": "stdout",
          "text": [
            "\n",
            "MODELLING\n",
            "Model Accuracy : \n",
            "0.7597402597402597\n"
          ]
        }
      ]
    },
    {
      "cell_type": "markdown",
      "source": [
        "These values—precision, recall, f1-score, and support—are commonly used metrics to evaluate the performance of a classification model. Here's a breakdown of what each of these metrics represents:\n",
        "\n",
        "1. Precision:\n",
        "Precision is the ratio of correctly predicted positive observations to the total predicted positives. It's a measure of the accuracy of the positive predictions made by the model.\n",
        "\n",
        "2. Recall (Sensitivity):\n",
        "Recall is the ratio of correctly predicted positive observations to all the observations in actual class. It measures the ability of the model to find all the positive cases.\n",
        "\n",
        "3. F1-Score:\n",
        "The F1-score is the harmonic mean of precision and recall, with a higher score signifying a better model. It is particularly useful when you have an uneven class distribution or when false positives and false negatives carry different costs.\n",
        "\n",
        "4. Support:\n",
        "Support is the number of actual occurrences of the class in the specified dataset. It's important as it can highlight imbalanced classes which might be affecting the performance of the classifier."
      ],
      "metadata": {
        "id": "JBCm6jv0iRLj"
      }
    },
    {
      "cell_type": "code",
      "execution_count": null,
      "metadata": {
        "colab": {
          "base_uri": "https://localhost:8080/"
        },
        "id": "aQD27L75A1qu",
        "outputId": "562cf406-966a-47f3-9c6e-c6cb6397e615"
      },
      "outputs": [
        {
          "output_type": "stream",
          "name": "stdout",
          "text": [
            "Classification Report : \n",
            "              precision    recall  f1-score   support\n",
            "\n",
            "           0       0.81      0.82      0.81        99\n",
            "           1       0.67      0.65      0.66        55\n",
            "\n",
            "    accuracy                           0.76       154\n",
            "   macro avg       0.74      0.74      0.74       154\n",
            "weighted avg       0.76      0.76      0.76       154\n",
            "\n"
          ]
        }
      ],
      "source": [
        "# --- Classification Report and Confusion Matrix\n",
        "print(\"Classification Report : \")\n",
        "print(classification_report(y_test, y_pred))"
      ]
    },
    {
      "cell_type": "markdown",
      "source": [
        "A Confusion Matrix is a table used to evaluate the performance of a classification model by displaying the true and false predictions made by the model in a tabular form. It provides insight not only into the errors being made by a classifier but more importantly the types of errors that are being made.\n",
        "\n",
        "**Components of a Confusion Matrix:**\n",
        "\n",
        "* True Positive (TP): The cases in which the model predicted the positive class correctly.\n",
        "* True Negative (TN): The cases in which the model predicted the negative class correctly.\n",
        "* False Positive (FP): The cases in which the model predicted the positive class incorrectly (i.e., it was actually negative).\n",
        "* False Negative (FN): The cases in which the model predicted the negative class incorrectly (i.e., it was actually positive).\n",
        "\n",
        "**Layout of Confusion Matrix:**\n",
        "\n",
        "The rows of the matrix represent the actual classes, while the columns represent the predicted classes.\n",
        "The diagonal elements represent the number of points for which the predicted label is equal to the true label, while off-diagonal elements are those that are mislabeled by the classifier."
      ],
      "metadata": {
        "id": "VFfdj6L0jF2X"
      }
    },
    {
      "cell_type": "code",
      "source": [
        "print(\"Confusion Matrix : \")\n",
        "cm = ConfusionMatrixDisplay.from_predictions(y_test, y_pred)\n",
        "sns.heatmap(cm.confusion_matrix, annot=True, cmap=\"Blues\")\n",
        "plt.show()\n",
        "print(\"Displayed\")"
      ],
      "metadata": {
        "colab": {
          "base_uri": "https://localhost:8080/",
          "height": 441
        },
        "id": "vRvqqyQLZLDJ",
        "outputId": "09ce6524-3f8f-429e-ce88-ab839b13cc05"
      },
      "execution_count": null,
      "outputs": [
        {
          "output_type": "stream",
          "name": "stdout",
          "text": [
            "Confusion Matrix : \n"
          ]
        },
        {
          "output_type": "display_data",
          "data": {
            "text/plain": [
              "<Figure size 640x480 with 3 Axes>"
            ],
            "image/png": "[encoded data removed]"
          },
          "metadata": {}
        },
        {
          "output_type": "stream",
          "name": "stdout",
          "text": [
            "Displayed\n"
          ]
        }
      ]
    },
    {
      "cell_type": "markdown",
      "source": [
        "# How does understanding classification let us understand the process of generating synthetic patients?\n",
        "\n",
        "Understanding classification provides a foundation for comprehending the generation of synthetic patients, particularly in the realm of healthcare analytics and modeling. Here’s how the two are interlinked:\n",
        "\n",
        "1. Data Representation and Feature Engineering:\n",
        "Classification requires a clear understanding of the features that are indicative of certain outcomes or labels. Similarly, when generating synthetic patients, understanding the relevant features and their distributions is crucial for creating realistic data.\n",
        "2. Model Training:\n",
        "In classification, models are trained to predict outcomes based on input features. Similarly, models can be trained to generate synthetic data based on real data distributions. For instance, Generative Adversarial Networks (GANs) or Variational Autoencoders (VAEs) can be trained to generate synthetic patient data that is statistically similar to real data.\n",
        "3. Evaluation Metrics:\n",
        "Just as classification models are evaluated using metrics like precision, recall, and F1-score, models generating synthetic patients need to be evaluated to ensure that the synthetic data maintains the statistical properties of the real data while ensuring privacy.\n",
        "4. Imbalanced Data Handling\n",
        "Classification models often encounter challenges with imbalanced data which is also a common issue in healthcare data. Synthetic data generation can help in addressing class imbalances by generating more samples of the under-represented class, improving model training, and evaluation."
      ],
      "metadata": {
        "id": "qTukPtRBjyWV"
      }
    },
    {
      "cell_type": "markdown",
      "source": [
        "# Next Steps\n",
        "Feel free to make a copy of this notebook and play around with the data file that you use for classification. Here are the 2 datasets we used last year. See if you can modify the code to accurately train a machine learning model for one of them"
      ],
      "metadata": {
        "id": "XsNAiN5okKLz"
      }
    },
    {
      "cell_type": "code",
      "source": [
        "url_pima = \"https://raw.githubusercontent.com/keenebrogan/smote/main/diabetes.csv\"\n",
        "url_brfss = \"https://raw.githubusercontent.com/keenebrogan/smote/main/diabetes_binary_health_indicators_BRFSS2015.csv\"\n",
        "df_pima = pd.read_csv(url_pima)\n",
        "df_brfss = pd.read_csv(url_brfss)"
      ],
      "metadata": {
        "id": "7NzlEy0vkVzf"
      },
      "execution_count": null,
      "outputs": []
    },
    {
      "cell_type": "code",
      "source": [
        "# Your code here -- try following the steps outlined above"
      ],
      "metadata": {
        "id": "tOYwgLTYkoZz"
      },
      "execution_count": null,
      "outputs": []
    }
  ]
}